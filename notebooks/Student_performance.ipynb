{
  "nbformat": 4,
  "nbformat_minor": 0,
  "metadata": {
    "colab": {
      "provenance": []
    },
    "kernelspec": {
      "name": "python3",
      "display_name": "Python 3"
    },
    "language_info": {
      "name": "python"
    }
  },
  "cells": [
    {
      "cell_type": "markdown",
      "source": [
        "# Анализ успеваемости студентов\n",
        "Цель проекта:\n",
        "Исследовать зависимость между временем сдачи домашних заданий и успеваемостью студентов.\n",
        "\n",
        "Используемые данные:  \n",
        "- 11 таблиц с информацией о студентах, курсах и выполненных заданиях  \n",
        "- Период: 2024 учебный год  "
      ],
      "metadata": {
        "id": "lZ46pIVMGWua"
      }
    },
    {
      "cell_type": "code",
      "source": [
        "#Загрузка библиотек\n",
        "import pandas as pd\n",
        "import sqlite3 as sql\n",
        "import seaborn as sns\n",
        "import matplotlib.pyplot as plt"
      ],
      "metadata": {
        "id": "PRMRYWGOG7Fl"
      },
      "execution_count": 4,
      "outputs": []
    },
    {
      "cell_type": "markdown",
      "source": [
        "## 1. Загрузка данных\n",
        "\n",
        "Загружаем следующие таблицы:\n",
        "- `users.csv` - профили пользователей\n",
        "- `user_roles.csv` - роли пользователей\n",
        "- `cities.csv` - города проживания пользователей  \n",
        "- `courses.csv` - информация о курсах\n",
        "- `course_types.csv` - типы курсов\n",
        "- `course_users.csv` - связка пользователей и курсов\n",
        "- `subjects.csv` - предметы, изучаемые на курсах\n",
        "- `lessons.csv` - информация об уроках\n",
        "- `homework.csv` - домашние работы\n",
        "- `homework_done.csv` - сданные домашние работы\n",
        "- `homework_lessons.csv` - связка домашних работ и уроков"
      ],
      "metadata": {
        "id": "pYm78LwjHExZ"
      }
    },
    {
      "cell_type": "code",
      "source": [
        "#Загрузка данных\n",
        "users = pd.read_csv('users.csv')\n",
        "user_roles = pd.read_csv('user_roles.csv')\n",
        "cities = pd.read_csv('cities.csv')\n",
        "courses = pd.read_csv('courses.csv')\n",
        "course_users = pd.read_csv('course_users.csv')\n",
        "course_types = pd.read_csv('course_types.csv')\n",
        "subjects = pd.read_csv('subjects.csv')\n",
        "lessons = pd.read_csv('lessons.csv')\n",
        "homework = pd.read_csv('homework.csv')\n",
        "homework_lessons = pd.read_csv('homework_lessons.csv')\n",
        "homework_done = pd.read_csv('homework_done.csv')"
      ],
      "metadata": {
        "id": "7fSOzXQsJWn7"
      },
      "execution_count": 5,
      "outputs": []
    },
    {
      "cell_type": "markdown",
      "source": [
        "## 2. Подготовка SQL-базы\n",
        "\n",
        "Создаем временную базу данных для:\n",
        "1. Комплексного анализа через SQL-запросы  \n",
        "2. Объединения таблиц, которые сложно соединить в pandas  \n",
        "3. Проверки гипотез о взаимосвязях между сущностями  "
      ],
      "metadata": {
        "id": "PPMwoBQqJbN4"
      }
    },
    {
      "cell_type": "code",
      "source": [
        "# Создаём подключение к БД\n",
        "conn = sql.connect('education.db')\n",
        "\n",
        "# Загружаем DataFrame в SQL-таблицы\n",
        "users.to_sql('users', conn, index=False, if_exists='replace')\n",
        "user_roles.to_sql('user_roles', conn, index=False, if_exists='replace')\n",
        "cities.to_sql('cities', conn, index=False, if_exists='replace')\n",
        "courses.to_sql('courses', conn, index=False, if_exists='replace')\n",
        "course_users.to_sql('course_users', conn, index=False, if_exists='replace')\n",
        "course_types.to_sql('course_types', conn, index=False, if_exists='replace')\n",
        "subjects.to_sql('subjects', conn, index=False, if_exists='replace')\n",
        "lessons.to_sql('lessons', conn, index=False, if_exists='replace')\n",
        "homework.to_sql('homework', conn, index=False, if_exists='replace')\n",
        "homework_lessons.to_sql('homework_lessons', conn, index=False, if_exists='replace')\n",
        "homework_done.to_sql('homework_done', conn, index=False, if_exists='replace')"
      ],
      "metadata": {
        "id": "8iJmuGlKKOdV",
        "colab": {
          "base_uri": "https://localhost:8080/"
        },
        "outputId": "93f174c8-6d4f-42b9-e943-548726c0b7cd"
      },
      "execution_count": 6,
      "outputs": [
        {
          "output_type": "execute_result",
          "data": {
            "text/plain": [
              "58400"
            ]
          },
          "metadata": {},
          "execution_count": 6
        }
      ]
    },
    {
      "cell_type": "markdown",
      "source": [
        "## 3. Проверка гипотезы о влиянии скорости сдачи ДЗ\n",
        "\n",
        "**Гипотеза:**  \n",
        "Студенты, сдающие ДЗ в течение 48 часов после урока, показывают результаты на 8.5 баллов выше (p < 0.001).\n",
        "\n",
        "**Метод проверки:**  \n",
        "1. Классифицируем студентов на 3 группы по скорости сдачи:  \n",
        "   - \"Быстрые\" (≤2 дней)  \n",
        "   - \"Стандартные\" (2-5 дней)  \n",
        "   - \"Медлительные\" (>5 дней)  \n",
        "2. Сравниваем средние баллы между группами  \n",
        "3. Визуализируем распределение оценок  \n",
        "\n",
        "\n"
      ],
      "metadata": {
        "id": "U5uG0RXhJsi-"
      }
    },
    {
      "cell_type": "code",
      "source": [
        "#SQL-запрос для анализа\n",
        "query = '''\n",
        "        SELECT u.id AS student_id,\n",
        "               -- Среднее время сдачи ДЗ по всем урокам\n",
        "               ROUND(AVG(julianday(hd.created_at) - julianday(l.date)), 2) AS avg_days_to_complete,\n",
        "                -- Средний балл студента\n",
        "               AVG(CASE WHEN hd.mark IS NOT NULL THEN hd.mark ELSE 0 END) AS avg_mark,\n",
        "               CASE -- Категория \"быстрый/стандартный/медлительный\"\n",
        "                   WHEN AVG(julianday(hd.created_at) - julianday(l.date)) <= 2 THEN 'быстрый'\n",
        "                   WHEN AVG(julianday(hd.created_at) - julianday(l.date)) > 5 THEN 'медлительный'\n",
        "                   ELSE 'стандартный' END AS student_type\n",
        "        FROM user_roles ur INNER JOIN users u ON ur.id = u.user_role_id\n",
        "                           INNER JOIN homework_done hd ON u.id = hd.user_id\n",
        "                           INNER JOIN homework_lessons hl ON hd.homework_id = hl.homework_id\n",
        "                           INNER JOIN lessons l ON l.id = hl.lesson_id\n",
        "        WHERE ur.name = 'student'\n",
        "        GROUP BY user_id  -- Группируем по студентам\n",
        "        ;\n",
        "'''\n",
        "# Загружаем полученную таблицу в переменную df\n",
        "df = pd.read_sql(query, conn)"
      ],
      "metadata": {
        "id": "DfY4suRhLT_G"
      },
      "execution_count": 9,
      "outputs": []
    },
    {
      "cell_type": "code",
      "source": [
        "# Вычисляем предварительные наблюдения\n",
        "print(f\"Всего студентов: {len(df)}\")\n",
        "print(f\"Быстрые: {sum(df['student_type'] == 'быстрый')}\")\n",
        "print(f\"Стандартные: {sum(df['student_type'] == 'стандартный')}\")\n",
        "print(f\"Медлительные: {sum(df['student_type'] == 'медлительный')}\")"
      ],
      "metadata": {
        "colab": {
          "base_uri": "https://localhost:8080/"
        },
        "id": "mrL8zTS-OPJW",
        "outputId": "39d96e2b-b516-4cd0-f6ff-d21c01cabbfc"
      },
      "execution_count": 12,
      "outputs": [
        {
          "output_type": "stream",
          "name": "stdout",
          "text": [
            "Всего студентов: 3246\n",
            "Быстрые: 128\n",
            "Стандартные: 896\n",
            "Медлительные: 2222\n"
          ]
        }
      ]
    },
    {
      "cell_type": "code",
      "source": [
        "# Визуализация\n",
        "plt.figure(figsize=(10, 5))\n",
        "# Создание boxplot\n",
        "sns.boxplot(\n",
        "    x='student_type',   # Ось X: категории \"быстрый\"/\"стандартный\"/\"медлительный\"\n",
        "    y='avg_mark',       # Ось Y: средний балл\n",
        "    hue='student_type',\n",
        "    data=df,            # Данные из DataFrame\n",
        "    order=['быстрый', 'стандартный', 'медлительный'], # Порядок групп на графике\n",
        "    palette=['#4CAF50', '#FFC107', '#F44336'],\n",
        "    legend=False  # Отключаем легенду, чтобы не было дублирования\n",
        ")\n",
        "# Добавляем заголовки и подписи\n",
        "plt.title('Сравнение средних баллов студентов')\n",
        "plt.xlabel('Тип студента')\n",
        "plt.ylabel('Средний балл')\n",
        "\n",
        "# Показываем график\n",
        "plt.show()\n"
      ],
      "metadata": {
        "colab": {
          "base_uri": "https://localhost:8080/",
          "height": 487
        },
        "id": "z4Luyfamvzfw",
        "outputId": "4b10f9d1-107f-4237-a38c-8b5dfec356c9"
      },
      "execution_count": 13,
      "outputs": [
        {
          "output_type": "display_data",
          "data": {
            "text/plain": [
              "<Figure size 1000x500 with 1 Axes>"
            ],
            "image/png": "[encoded data removed]"
          },
          "metadata": {}
        }
      ]
    },
    {
      "cell_type": "markdown",
      "source": [
        "## 4. Статистический анализ различий между группами"
      ],
      "metadata": {
        "id": "EG80S7n9SJfE"
      }
    },
    {
      "cell_type": "code",
      "source": [
        "#Найдем средние баллы для каждой категории студентов\n",
        "fast_mean = df[df['student_type'] == 'быстрый']['avg_mark'].mean()\n",
        "standard_mean = df[df['student_type'] == 'стандартный']['avg_mark'].mean()\n",
        "slow_mean = df[df['student_type'] == 'медлительный']['avg_mark'].mean()\n",
        "print(f\"'Быстрые': средний балл = {fast_mean:.2f}\")\n",
        "print(f\"'Стандартные': средний балл = {standard_mean:.2f}\")\n",
        "print(f\"'Медлительные': средний балл = {slow_mean:.2f}\")"
      ],
      "metadata": {
        "colab": {
          "base_uri": "https://localhost:8080/"
        },
        "id": "6WSeVNyFQbVr",
        "outputId": "40c7bfe2-4eb8-47b9-fe62-020979935ada"
      },
      "execution_count": 14,
      "outputs": [
        {
          "output_type": "stream",
          "name": "stdout",
          "text": [
            "'Быстрые': средний балл = 59.43\n",
            "'Стандартные': средний балл = 56.86\n",
            "'Медлительные': средний балл = 50.98\n"
          ]
        }
      ]
    },
    {
      "cell_type": "markdown",
      "source": [
        "### Результаты:\n",
        "- Быстрые: 59.43\n",
        "- Стандартные: 56.86  \n",
        "- Медлительные: 50.98\n",
        "\n",
        "Разница между группами видна, но нужно проверить статистическую значимость."
      ],
      "metadata": {
        "id": "s-VD4L11SbYT"
      }
    },
    {
      "cell_type": "markdown",
      "source": [
        "## 4.1. Проверка значимости различий (ANOVA)"
      ],
      "metadata": {
        "id": "oT6c6KA4Sk8-"
      }
    },
    {
      "cell_type": "code",
      "source": [
        "from scipy.stats import f_oneway\n",
        "\n",
        "# Разделяем данные на группы\n",
        "fast = df[df['student_type'] == 'быстрый']['avg_mark']\n",
        "standard = df[df['student_type'] == 'стандартный']['avg_mark']\n",
        "slow = df[df['student_type'] == 'медлительный']['avg_mark']\n",
        "\n",
        "# Проводим тест\n",
        "f_stat, p_value = f_oneway(fast, standard, slow)\n",
        "print(f\"ANOVA p-value: {p_value:.4f}\")\n",
        "\n",
        "# Интерпретация\n",
        "if p_value < 0.05:\n",
        "    print(\"Разница статистически значима (гипотеза подтверждена)\")\n",
        "else:\n",
        "    print(\"Разница незначима (возможно, случайна)\")"
      ],
      "metadata": {
        "colab": {
          "base_uri": "https://localhost:8080/"
        },
        "id": "WxcMhzttXPXm",
        "outputId": "2e59fc5f-0125-453e-8c1e-a4cb9ddacf51"
      },
      "execution_count": 15,
      "outputs": [
        {
          "output_type": "stream",
          "name": "stdout",
          "text": [
            "ANOVA p-value: 0.0000\n",
            "Разница статистически значима (гипотеза подтверждена)\n"
          ]
        }
      ]
    },
    {
      "cell_type": "markdown",
      "source": [
        "### Вывод:\n",
        "Гипотеза подтверждена (p < 0.05) - существуют статистически значимые различия между хотя бы двумя группами.\n",
        "\n",
        "Теперь проверим попарные сравнения."
      ],
      "metadata": {
        "id": "3foboA7JSxmU"
      }
    },
    {
      "cell_type": "markdown",
      "source": [
        "## 4.2. Попарные сравнения (t-тесты)"
      ],
      "metadata": {
        "id": "2ULC9eG5S4cZ"
      }
    },
    {
      "cell_type": "code",
      "source": [
        "from scipy.stats import ttest_ind\n",
        "\n",
        "# Сравниваем каждую пару групп\n",
        "t1, p1 = ttest_ind(fast, standard)\n",
        "t2, p2 = ttest_ind(fast, slow)\n",
        "t3, p3 = ttest_ind(standard, slow)\n",
        "\n",
        "print(f\"Быстрые vs Стандартные: p-value = {p1:.4f}\")\n",
        "print(f\"Быстрые vs Медленные: p-value = {p2:.4f}\")\n",
        "print(f\"Стандартные vs Медленные: p-value = {p3:.4f}\")"
      ],
      "metadata": {
        "colab": {
          "base_uri": "https://localhost:8080/"
        },
        "id": "Bn8MI7GaBYma",
        "outputId": "400c48bd-1d9b-47cc-fcdd-187c2ae58c27"
      },
      "execution_count": 5,
      "outputs": [
        {
          "output_type": "stream",
          "name": "stdout",
          "text": [
            "Быстрые vs Стандартные: p-value = 0.0907\n",
            "Быстрые vs Медленные: p-value = 0.0000\n",
            "Стандартные vs Медленные: p-value = 0.0000\n"
          ]
        }
      ]
    },
    {
      "cell_type": "markdown",
      "source": [
        "### Результаты попарных сравнений:\n",
        "1. Быстрые vs Стандартные: p = 0.0907 (разница незначима)  \n",
        "2. Быстрые vs Медленные: p < 0.001 (разница значима)  \n",
        "3. Стандартные vs Медленные: p < 0.001 (разница значима)"
      ],
      "metadata": {
        "id": "Pxzjf47ZS_K7"
      }
    },
    {
      "cell_type": "markdown",
      "source": [
        "## 4.3. Размер эффекта (Cohen's d)"
      ],
      "metadata": {
        "id": "o0cnZrw5TEO0"
      }
    },
    {
      "cell_type": "code",
      "source": [
        "import numpy as np\n",
        "def cohens_d(x, y):\n",
        "    nx, ny = len(x), len(y)\n",
        "    dof = nx + ny - 2\n",
        "    pooled_std = np.sqrt(((nx-1)*np.std(x, ddof=1)**2 + (ny-1)*np.std(y, ddof=1)**2) / dof)\n",
        "    return (np.mean(x) - np.mean(y)) / pooled_std\n",
        "\n",
        "print(f\"Cohen’s d (Быстрые vs Стандартные): {cohens_d(fast, standard):.2f}\")\n",
        "print(f\"Cohen’s d (Быстрые vs Медленные): {cohens_d(fast, slow):.2f}\")\n",
        "print(f\"Cohen’s d (Стандартные vs Медленные): {cohens_d(standard, slow):.2f}\")"
      ],
      "metadata": {
        "colab": {
          "base_uri": "https://localhost:8080/"
        },
        "id": "iusTj_g7AtnL",
        "outputId": "1265ae77-dc2a-44b2-d266-d6f46060f863"
      },
      "execution_count": 6,
      "outputs": [
        {
          "output_type": "stream",
          "name": "stdout",
          "text": [
            "Cohen’s d (Быстрые vs Стандартные): 0.16\n",
            "Cohen’s d (Быстрые vs Медленные): 0.46\n",
            "Cohen’s d (Стандартные vs Медленные): 0.33\n"
          ]
        }
      ]
    },
    {
      "cell_type": "markdown",
      "source": [
        "### Интерпретация эффектов:\n",
        "1. Быстрые vs Стандартные: 0.16 (малый эффект)  \n",
        "2. Быстрые vs Медленные: 0.46 (средний эффект)  \n",
        "3. Стандартные vs Медленные: 0.33 (малый/средний эффект)"
      ],
      "metadata": {
        "id": "cajiB84lTKtQ"
      }
    },
    {
      "cell_type": "markdown",
      "source": [
        "## 5. Рекомендации\n",
        "\n",
        "1. **Для медлительных студентов**:\n",
        "   - Внедрить систему ранних напоминаний\n",
        "   - Разбивать сложные задания на подзадачи\n",
        "   - Ввести бонусы за своевременную сдачу\n",
        "\n",
        "2. **Для всех групп**:\n",
        "   - Оптимизировать дедлайны (например, 72 часа вместо 48)\n",
        "   - Ввести градацию сложности заданий\n",
        "\n",
        "3. **Метрики для контроля**:\n",
        "   - Еженедельно отслеживать среднее время сдачи\n",
        "   - Мониторить разницу в успеваемости между группами"
      ],
      "metadata": {
        "id": "TCeX8c4hTUKc"
      }
    }
  ]
}